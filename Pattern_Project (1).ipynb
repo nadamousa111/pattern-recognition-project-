{
  "cells": [
    {
      "cell_type": "markdown",
      "source": [
        "# **Data Importation**"
      ],
      "metadata": {
        "id": "HuvOM1M9itws"
      }
    },
    {
      "cell_type": "markdown",
      "source": [
        "**Import the Libraries**\n"
      ],
      "metadata": {
        "id": "wy7LdCrVm0VV"
      }
    },
    {
      "cell_type": "code",
      "execution_count": null,
      "metadata": {
        "id": "Y7lPkp8zkwT0"
      },
      "outputs": [],
      "source": [
        "import keras\n",
        "import tensorflow\n",
        "import numpy as np\n",
        "from keras.layers import Dense\n",
        "from keras.layers import Conv2D\n",
        "from keras.datasets import mnist\n",
        "from keras.layers import Dropout\n",
        "from keras.layers import Flatten\n",
        "from sklearn import preprocessing\n",
        "from keras.layers import MaxPool2D\n",
        "from keras.models import Sequential\n",
        "from sklearn.svm import SVC,LinearSVC\n",
        "from skimage.util.shape import view_as_blocks\n",
        "from sklearn.neural_network import MLPClassifier\n",
        "from sklearn.neighbors import KNeighborsClassifier\n",
        "from sklearn.model_selection import train_test_split\n",
        "from sklearn.metrics import precision_score, recall_score, f1_score, accuracy_score,classification_report"
      ]
    },
    {
      "cell_type": "markdown",
      "source": [
        "**Load the Dataset**\n"
      ],
      "metadata": {
        "id": "sCRduk-ynEoS"
      }
    },
    {
      "cell_type": "code",
      "source": [
        "(train_x, train_y), (test_x, test_y) = mnist.load_data()"
      ],
      "metadata": {
        "id": "UHNph1MNl18r",
        "colab": {
          "base_uri": "https://localhost:8080/"
        },
        "outputId": "d87c7360-cdba-4da2-8372-8ac34136a258"
      },
      "execution_count": null,
      "outputs": [
        {
          "output_type": "stream",
          "name": "stdout",
          "text": [
            "Downloading data from https://storage.googleapis.com/tensorflow/tf-keras-datasets/mnist.npz\n",
            "11493376/11490434 [==============================] - 0s 0us/step\n",
            "11501568/11490434 [==============================] - 0s 0us/step\n"
          ]
        }
      ]
    },
    {
      "cell_type": "markdown",
      "source": [
        "**Transform 3D Data to 2D**"
      ],
      "metadata": {
        "id": "QdB7z5QWcGG-"
      }
    },
    {
      "cell_type": "code",
      "source": [
        "nsamples, nx, ny = train_x.shape\n",
        "tsamples, tx, ty = test_x.shape\n",
        "\n",
        "d2_train = train_x.reshape((nsamples,nx*ny))\n",
        "d2_test = test_x.reshape((tsamples,tx*ty))\n",
        "\n",
        "print('Before: ', train_x.shape ,'\\nAfter: ', d2_train.shape)\n",
        "#First dimension is maintained and the other two dimensions are flattened (so 28x28 becomes 784)."
      ],
      "metadata": {
        "colab": {
          "base_uri": "https://localhost:8080/"
        },
        "id": "CN3e_hj7bvE2",
        "outputId": "92305e0c-76f9-427d-9f4e-e9504ed41fd5"
      },
      "execution_count": null,
      "outputs": [
        {
          "output_type": "stream",
          "name": "stdout",
          "text": [
            "Before:  (60000, 28, 28) \n",
            "After:  (60000, 784)\n"
          ]
        }
      ]
    },
    {
      "cell_type": "markdown",
      "source": [
        "# **MLP**"
      ],
      "metadata": {
        "id": "eKxVJVSLVSGV"
      }
    },
    {
      "cell_type": "markdown",
      "source": [
        "**Calculate the Centroid**"
      ],
      "metadata": {
        "id": "lZw6vSJunlPE"
      }
    },
    {
      "cell_type": "code",
      "source": [
        "def centroid(block):\n",
        "    x = 0\n",
        "    y = 0\n",
        "    xy = 0\n",
        "    for i in range(7):\n",
        "        for j in range(7):\n",
        "            x += i * block[i][j]\n",
        "            y += j * block[i][j]\n",
        "            xy += block[i][j]\n",
        "    x = x / xy if xy > 0 else 0\n",
        "    y = y / xy if xy > 0 else 0\n",
        "    return x, y"
      ],
      "metadata": {
        "id": "ibzvfoTSnitM"
      },
      "execution_count": null,
      "outputs": []
    },
    {
      "cell_type": "markdown",
      "source": [
        "**Extract the Feature Vector**"
      ],
      "metadata": {
        "id": "uBfvWZ6QSBxj"
      }
    },
    {
      "cell_type": "code",
      "source": [
        "def extractfv(x):\n",
        "    x_blocks = view_as_blocks(x[i], block_shape=(7, 7))\n",
        "    fv_image = []\n",
        "    for j in range(4):\n",
        "        for k in range(4):\n",
        "          x,y=centroid(x_blocks[j][k])\n",
        "          fv_image.append(x)\n",
        "          fv_image.append(y)\n",
        "    fv_image = np.array(fv_image)\n",
        "    return fv_image"
      ],
      "metadata": {
        "id": "-h3oOd6KR_c2"
      },
      "execution_count": null,
      "outputs": []
    },
    {
      "cell_type": "markdown",
      "source": [
        "**Calculate the Feature Vector for the Training and Testing Sets**"
      ],
      "metadata": {
        "id": "0Tq-wtizVgic"
      }
    },
    {
      "cell_type": "code",
      "source": [
        "train_fv = []\n",
        "for i in range(len(train_x)):\n",
        "    train_fv.append(extractfv(train_x))\n",
        "train_fv=np.array(train_fv)\n",
        "\n",
        "test_fv = []\n",
        "for i in range(len(test_x)):\n",
        "    test_fv.append(extractfv(test_x))\n",
        "test_fv=np.array(test_fv)"
      ],
      "metadata": {
        "id": "ItdWPYjon-2A"
      },
      "execution_count": null,
      "outputs": []
    },
    {
      "cell_type": "markdown",
      "source": [
        "**Normalize the Features (Standardize features by removing the mean and scaling to unit variance) and Transform (Perform standardization by centering and scaling)**"
      ],
      "metadata": {
        "id": "Tp3XTYp_0gtt"
      }
    },
    {
      "cell_type": "code",
      "source": [
        "normTrain = preprocessing.StandardScaler().fit(train_fv)\n",
        "train_fv = normTrain.transform(train_fv)\n",
        "\n",
        "normTest = preprocessing.StandardScaler().fit(test_fv)\n",
        "test_fv = normTest.transform(test_fv)"
      ],
      "metadata": {
        "id": "awSmKHYW-_H-"
      },
      "execution_count": null,
      "outputs": []
    },
    {
      "cell_type": "markdown",
      "source": [
        "**Implement the MLP Neural Network**"
      ],
      "metadata": {
        "id": "JMIQLWrXV1Ju"
      }
    },
    {
      "cell_type": "code",
      "source": [
        "clf = MLPClassifier(solver='lbfgs', alpha=1e-5,hidden_layer_sizes=(5, 2), random_state=1)\n",
        "MLP_train=clf.fit(train_fv,train_y)\n",
        "MLP_predict = clf.predict(test_fv)"
      ],
      "metadata": {
        "id": "cOa5ez7rv3fU",
        "colab": {
          "base_uri": "https://localhost:8080/"
        },
        "outputId": "9f936897-7e5e-4180-9b09-dfdb5fa59fe9"
      },
      "execution_count": null,
      "outputs": [
        {
          "output_type": "stream",
          "name": "stderr",
          "text": [
            "/usr/local/lib/python3.7/dist-packages/sklearn/neural_network/_multilayer_perceptron.py:549: ConvergenceWarning: lbfgs failed to converge (status=1):\n",
            "STOP: TOTAL NO. of ITERATIONS REACHED LIMIT.\n",
            "\n",
            "Increase the number of iterations (max_iter) or scale the data as shown in:\n",
            "    https://scikit-learn.org/stable/modules/preprocessing.html\n",
            "  self.n_iter_ = _check_optimize_result(\"lbfgs\", opt_res, self.max_iter)\n"
          ]
        }
      ]
    },
    {
      "cell_type": "markdown",
      "source": [
        "**Classification Report (Classes Indicating Digits 0-9)**"
      ],
      "metadata": {
        "id": "wYfuDCnkrnZy"
      }
    },
    {
      "cell_type": "code",
      "source": [
        "print(classification_report(test_y, MLP_predict))"
      ],
      "metadata": {
        "colab": {
          "base_uri": "https://localhost:8080/"
        },
        "id": "moyVebabroPu",
        "outputId": "18da6e1c-2e8f-4f59-b25e-7759005a59d0"
      },
      "execution_count": null,
      "outputs": [
        {
          "output_type": "stream",
          "name": "stdout",
          "text": [
            "              precision    recall  f1-score   support\n",
            "\n",
            "           0       0.83      0.90      0.86       980\n",
            "           1       0.87      0.91      0.89      1135\n",
            "           2       0.71      0.72      0.72      1032\n",
            "           3       0.37      0.49      0.42      1010\n",
            "           4       0.60      0.66      0.63       982\n",
            "           5       0.41      0.28      0.33       892\n",
            "           6       0.82      0.86      0.84       958\n",
            "           7       0.80      0.81      0.81      1028\n",
            "           8       0.53      0.39      0.45       974\n",
            "           9       0.62      0.58      0.60      1009\n",
            "\n",
            "    accuracy                           0.67     10000\n",
            "   macro avg       0.66      0.66      0.65     10000\n",
            "weighted avg       0.66      0.67      0.66     10000\n",
            "\n"
          ]
        }
      ]
    },
    {
      "cell_type": "markdown",
      "source": [
        "# **SVM**"
      ],
      "metadata": {
        "id": "__Q7IFeI5T-Q"
      }
    },
    {
      "cell_type": "markdown",
      "source": [
        "**Create and Fit our LinearSVC Object**"
      ],
      "metadata": {
        "id": "cP0YuBRwemhg"
      }
    },
    {
      "cell_type": "code",
      "source": [
        "clf = LinearSVC(dual=False)\n",
        "clf.fit(train_fv,train_y)"
      ],
      "metadata": {
        "id": "nHnirSzh5b6J",
        "colab": {
          "base_uri": "https://localhost:8080/"
        },
        "outputId": "a16e5eaa-e4d6-42cb-f047-55d60bd224ec"
      },
      "execution_count": null,
      "outputs": [
        {
          "output_type": "execute_result",
          "data": {
            "text/plain": [
              "LinearSVC(dual=False)"
            ]
          },
          "metadata": {},
          "execution_count": 10
        }
      ]
    },
    {
      "cell_type": "markdown",
      "source": [
        "**Use our LinearSVC Object to Predict the Testing Samples**"
      ],
      "metadata": {
        "id": "u-9IW7dkeo8k"
      }
    },
    {
      "cell_type": "code",
      "source": [
        "pred = clf.predict(test_fv)"
      ],
      "metadata": {
        "id": "G11geg4a5dXN"
      },
      "execution_count": null,
      "outputs": []
    },
    {
      "cell_type": "markdown",
      "source": [
        "**Classification Report (Classes Indicating Digits 0-9)**"
      ],
      "metadata": {
        "id": "_vu_xBaFfDjU"
      }
    },
    {
      "cell_type": "code",
      "source": [
        "print(classification_report(test_y, pred))"
      ],
      "metadata": {
        "id": "6sdr4CKO5eGv",
        "colab": {
          "base_uri": "https://localhost:8080/"
        },
        "outputId": "55b51af7-52b6-440a-dce1-e7439d8338c8"
      },
      "execution_count": null,
      "outputs": [
        {
          "output_type": "stream",
          "name": "stdout",
          "text": [
            "              precision    recall  f1-score   support\n",
            "\n",
            "           0       0.88      0.94      0.91       980\n",
            "           1       0.91      0.97      0.94      1135\n",
            "           2       0.84      0.83      0.84      1032\n",
            "           3       0.69      0.80      0.75      1010\n",
            "           4       0.84      0.77      0.81       982\n",
            "           5       0.74      0.59      0.66       892\n",
            "           6       0.84      0.90      0.87       958\n",
            "           7       0.82      0.85      0.83      1028\n",
            "           8       0.77      0.64      0.70       974\n",
            "           9       0.74      0.76      0.75      1009\n",
            "\n",
            "    accuracy                           0.81     10000\n",
            "   macro avg       0.81      0.81      0.80     10000\n",
            "weighted avg       0.81      0.81      0.81     10000\n",
            "\n"
          ]
        }
      ]
    },
    {
      "cell_type": "markdown",
      "source": [
        "# **KNN**"
      ],
      "metadata": {
        "id": "G85u1dAT2fPk"
      }
    },
    {
      "cell_type": "markdown",
      "source": [
        "**Take 10% of the Training Data and Use That for Validation**"
      ],
      "metadata": {
        "id": "RewBsZsnjP24"
      }
    },
    {
      "cell_type": "code",
      "source": [
        "(trainData, valData, trainLabels, valLabels) = train_test_split(d2_train, train_y,test_size=0.1, random_state=84)"
      ],
      "metadata": {
        "id": "-gd3Dtjb3SNE"
      },
      "execution_count": null,
      "outputs": []
    },
    {
      "cell_type": "markdown",
      "source": [
        "**Initialize the Values of K (Odd Numbers Between 1 to 30) for KNN, and Loop Over the Values of K to Find the Best Accuracy**"
      ],
      "metadata": {
        "id": "JpN66Mka7oSp"
      }
    },
    {
      "cell_type": "code",
      "source": [
        "accuracies = []\n",
        "\n",
        "for k in range(1, 30, 2):\n",
        "  model = KNeighborsClassifier(n_neighbors=k)\n",
        "  model.fit(trainData, trainLabels)\n",
        "\n",
        "  #Evaluate the Model and Update the Accuracies\n",
        "  score = model.score(valData, valLabels)\n",
        "  print(\"k= \" , k , \"accuracy= \", (score * 100))\n",
        "  accuracies.append(score)"
      ],
      "metadata": {
        "id": "rZzlIrBW2v8n",
        "colab": {
          "base_uri": "https://localhost:8080/"
        },
        "outputId": "5e40a494-5e38-4d17-9fd6-5d1756f78aab"
      },
      "execution_count": null,
      "outputs": [
        {
          "output_type": "stream",
          "name": "stdout",
          "text": [
            "k=  1 accuracy=  97.48333333333333\n",
            "k=  3 accuracy=  97.61666666666666\n",
            "k=  5 accuracy=  97.28333333333333\n",
            "k=  7 accuracy=  97.1\n",
            "k=  9 accuracy=  97.03333333333333\n",
            "k=  11 accuracy=  97.03333333333333\n",
            "k=  13 accuracy=  96.76666666666667\n",
            "k=  15 accuracy=  96.6\n",
            "k=  17 accuracy=  96.43333333333334\n",
            "k=  19 accuracy=  96.2\n",
            "k=  21 accuracy=  96.08333333333333\n",
            "k=  23 accuracy=  95.89999999999999\n",
            "k=  25 accuracy=  95.91666666666666\n",
            "k=  27 accuracy=  95.8\n",
            "k=  29 accuracy=  95.75\n"
          ]
        }
      ]
    },
    {
      "cell_type": "markdown",
      "source": [
        "**Retrain Our Classifier Using the Value of K with the Highest Accuracy**"
      ],
      "metadata": {
        "id": "UIje2q547ucT"
      }
    },
    {
      "cell_type": "code",
      "source": [
        "kVal = range(1, 30, 2)\n",
        "k = np.argmax(accuracies)\n",
        "\n",
        "model = KNeighborsClassifier(n_neighbors=kVal[k])\n",
        "model.fit(trainData, trainLabels)\n",
        "pred = model.predict(d2_test)"
      ],
      "metadata": {
        "id": "MrpCreCO7XY2"
      },
      "execution_count": null,
      "outputs": []
    },
    {
      "cell_type": "markdown",
      "source": [
        "**Classification Report (Classes Indicating Digits 0-9)**"
      ],
      "metadata": {
        "id": "Red82O1qr9pC"
      }
    },
    {
      "cell_type": "code",
      "source": [
        "print(classification_report(test_y, pred))"
      ],
      "metadata": {
        "id": "5Xx2UG5B7LtJ",
        "colab": {
          "base_uri": "https://localhost:8080/"
        },
        "outputId": "c11d91fe-a8cf-4735-c486-4be45fff9f3c"
      },
      "execution_count": null,
      "outputs": [
        {
          "output_type": "stream",
          "name": "stdout",
          "text": [
            "              precision    recall  f1-score   support\n",
            "\n",
            "           0       0.97      0.99      0.98       980\n",
            "           1       0.96      1.00      0.98      1135\n",
            "           2       0.98      0.97      0.97      1032\n",
            "           3       0.96      0.97      0.96      1010\n",
            "           4       0.97      0.96      0.97       982\n",
            "           5       0.97      0.96      0.96       892\n",
            "           6       0.99      0.99      0.99       958\n",
            "           7       0.96      0.96      0.96      1028\n",
            "           8       0.99      0.94      0.96       974\n",
            "           9       0.96      0.96      0.96      1009\n",
            "\n",
            "    accuracy                           0.97     10000\n",
            "   macro avg       0.97      0.97      0.97     10000\n",
            "weighted avg       0.97      0.97      0.97     10000\n",
            "\n"
          ]
        }
      ]
    },
    {
      "cell_type": "markdown",
      "source": [
        "# **CNN**"
      ],
      "metadata": {
        "id": "XhvdMXRd6Yye"
      }
    },
    {
      "cell_type": "markdown",
      "source": [
        "**Reshape the Inputs and Add 1 to Indicate the Images are Grayscale**"
      ],
      "metadata": {
        "id": "mGduY7dFXSCr"
      }
    },
    {
      "cell_type": "code",
      "source": [
        "X_train = train_x.reshape((train_x.shape[0], train_x.shape[1], train_x.shape[2], 1))\n",
        "X_test = test_x.reshape((test_x.shape[0],test_x.shape[1],test_x.shape[2],1))\n",
        "\n",
        "#Check the Shape\n",
        "print('Before Reshaping: ', train_x.shape, test_x.shape)\n",
        "print('After Reshaping: ' , X_train.shape, X_test.shape)"
      ],
      "metadata": {
        "id": "GUf7Bl-m6Yb7",
        "colab": {
          "base_uri": "https://localhost:8080/"
        },
        "outputId": "c5b65a63-41ce-42cf-a10e-16e74b6390ad"
      },
      "execution_count": null,
      "outputs": [
        {
          "output_type": "stream",
          "name": "stdout",
          "text": [
            "Before Reshaping:  (60000, 28, 28) (10000, 28, 28)\n",
            "After Reshaping:  (60000, 28, 28, 1) (10000, 28, 28, 1)\n"
          ]
        }
      ]
    },
    {
      "cell_type": "markdown",
      "source": [
        "**Normalize the Pixel Values**"
      ],
      "metadata": {
        "id": "Wzz3NR2wXk8k"
      }
    },
    {
      "cell_type": "code",
      "source": [
        "X_train=X_train/255\n",
        "X_test=X_test/255"
      ],
      "metadata": {
        "id": "M1iUSE_o6jWh"
      },
      "execution_count": null,
      "outputs": []
    },
    {
      "cell_type": "markdown",
      "source": [
        "**Create a Sequential Model (Layer by Layer), and Add Model Layers**"
      ],
      "metadata": {
        "id": "zE8P1k_RX0t9"
      }
    },
    {
      "cell_type": "code",
      "source": [
        "model=Sequential()\n",
        "\n",
        "#Convolution Layer\n",
        "model.add(Conv2D(32,(3,3),activation='relu',input_shape=(28,28,1)))\n",
        "\n",
        "#Pooling Layer\n",
        "model.add(MaxPool2D(2,2))\n",
        "\n",
        "#Fully Connected Layer\n",
        "model.add(Flatten())\n",
        "model.add(Dense(100,activation='relu'))\n",
        "\n",
        "#Output Layer\n",
        "model.add(Dense(10,activation='softmax'))"
      ],
      "metadata": {
        "id": "zFt2a8RXX3iU"
      },
      "execution_count": null,
      "outputs": []
    },
    {
      "cell_type": "markdown",
      "source": [
        "**Compile the Model**\n"
      ],
      "metadata": {
        "id": "TBBEm6e-ZhBM"
      }
    },
    {
      "cell_type": "code",
      "source": [
        "model.compile(loss='sparse_categorical_crossentropy',optimizer='adam',metrics=['accuracy'])\n",
        "model.summary()"
      ],
      "metadata": {
        "id": "UHCrmSGOZ-UX",
        "colab": {
          "base_uri": "https://localhost:8080/"
        },
        "outputId": "287d2908-a7d5-4d3c-d555-06fada0b55fa"
      },
      "execution_count": null,
      "outputs": [
        {
          "output_type": "stream",
          "name": "stdout",
          "text": [
            "Model: \"sequential\"\n",
            "_________________________________________________________________\n",
            " Layer (type)                Output Shape              Param #   \n",
            "=================================================================\n",
            " conv2d (Conv2D)             (None, 26, 26, 32)        320       \n",
            "                                                                 \n",
            " max_pooling2d (MaxPooling2D  (None, 13, 13, 32)       0         \n",
            " )                                                               \n",
            "                                                                 \n",
            " flatten (Flatten)           (None, 5408)              0         \n",
            "                                                                 \n",
            " dense (Dense)               (None, 100)               540900    \n",
            "                                                                 \n",
            " dense_1 (Dense)             (None, 10)                1010      \n",
            "                                                                 \n",
            "=================================================================\n",
            "Total params: 542,230\n",
            "Trainable params: 542,230\n",
            "Non-trainable params: 0\n",
            "_________________________________________________________________\n"
          ]
        }
      ]
    },
    {
      "cell_type": "markdown",
      "source": [
        "**Train the Model, then Use It to Make Predictions**"
      ],
      "metadata": {
        "id": "buQvdqG5aHhc"
      }
    },
    {
      "cell_type": "code",
      "source": [
        "model.fit(X_train,train_y,epochs=10)\n",
        "pred=model.predict(X_test)"
      ],
      "metadata": {
        "id": "9IwIp0CKaJHX",
        "colab": {
          "base_uri": "https://localhost:8080/"
        },
        "outputId": "4f444321-953b-4f1e-a9a3-f96bbb811fd3"
      },
      "execution_count": null,
      "outputs": [
        {
          "output_type": "stream",
          "name": "stdout",
          "text": [
            "Epoch 1/10\n",
            "1875/1875 [==============================] - 31s 16ms/step - loss: 0.1538 - accuracy: 0.9540\n",
            "Epoch 2/10\n",
            "1875/1875 [==============================] - 30s 16ms/step - loss: 0.0530 - accuracy: 0.9836\n",
            "Epoch 3/10\n",
            "1875/1875 [==============================] - 30s 16ms/step - loss: 0.0346 - accuracy: 0.9895\n",
            "Epoch 4/10\n",
            "1875/1875 [==============================] - 30s 16ms/step - loss: 0.0225 - accuracy: 0.9927\n",
            "Epoch 5/10\n",
            "1875/1875 [==============================] - 30s 16ms/step - loss: 0.0167 - accuracy: 0.9950\n",
            "Epoch 6/10\n",
            "1875/1875 [==============================] - 30s 16ms/step - loss: 0.0108 - accuracy: 0.9965\n",
            "Epoch 7/10\n",
            "1875/1875 [==============================] - 30s 16ms/step - loss: 0.0095 - accuracy: 0.9966\n",
            "Epoch 8/10\n",
            "1875/1875 [==============================] - 30s 16ms/step - loss: 0.0060 - accuracy: 0.9980\n",
            "Epoch 9/10\n",
            "1875/1875 [==============================] - 30s 16ms/step - loss: 0.0065 - accuracy: 0.9977\n",
            "Epoch 10/10\n",
            "1875/1875 [==============================] - 30s 16ms/step - loss: 0.0040 - accuracy: 0.9986\n"
          ]
        }
      ]
    },
    {
      "cell_type": "markdown",
      "source": [
        "**Evaluate the Model, and Show the Loss and Accuracy Percentages**"
      ],
      "metadata": {
        "id": "fMeI2ddBapxm"
      }
    },
    {
      "cell_type": "code",
      "source": [
        "score = model.evaluate(X_test,test_y,verbose=1)\n",
        "\n",
        "print('Loss = ', score[0], ', Accuracy = ', score[1])"
      ],
      "metadata": {
        "id": "ALl_pgMa6poa",
        "colab": {
          "base_uri": "https://localhost:8080/"
        },
        "outputId": "b9f2c97e-c361-4d38-9613-5b1d6bea4dd8"
      },
      "execution_count": null,
      "outputs": [
        {
          "output_type": "stream",
          "name": "stdout",
          "text": [
            "313/313 [==============================] - 2s 5ms/step - loss: 0.0524 - accuracy: 0.9873\n",
            "Loss =  0.05244740471243858 , Accuracy =  0.9872999787330627\n"
          ]
        }
      ]
    },
    {
      "cell_type": "markdown",
      "source": [
        "**Classification Report (Classes Indicating Digits 0-9)**"
      ],
      "metadata": {
        "id": "kFGhdTFWrLds"
      }
    },
    {
      "cell_type": "code",
      "source": [
        "#Convert labels to single-digits\n",
        "pred_y = np.argmax(pred, axis=1)\n",
        "print(classification_report(test_y, pred_y))"
      ],
      "metadata": {
        "colab": {
          "base_uri": "https://localhost:8080/"
        },
        "id": "xG0yv16vq6FV",
        "outputId": "6c23baba-3e48-4f8a-81a5-5c8d605f09ea"
      },
      "execution_count": null,
      "outputs": [
        {
          "output_type": "stream",
          "name": "stdout",
          "text": [
            "              precision    recall  f1-score   support\n",
            "\n",
            "           0       0.99      0.99      0.99       980\n",
            "           1       0.99      0.99      0.99      1135\n",
            "           2       0.99      0.99      0.99      1032\n",
            "           3       0.99      0.99      0.99      1010\n",
            "           4       0.99      0.99      0.99       982\n",
            "           5       0.98      0.99      0.99       892\n",
            "           6       0.99      0.99      0.99       958\n",
            "           7       0.97      0.99      0.98      1028\n",
            "           8       0.99      0.98      0.99       974\n",
            "           9       0.98      0.98      0.98      1009\n",
            "\n",
            "    accuracy                           0.99     10000\n",
            "   macro avg       0.99      0.99      0.99     10000\n",
            "weighted avg       0.99      0.99      0.99     10000\n",
            "\n"
          ]
        }
      ]
    }
  ],
  "metadata": {
    "colab": {
      "provenance": []
    },
    "kernelspec": {
      "display_name": "Python 3",
      "name": "python3"
    },
    "language_info": {
      "name": "python"
    }
  },
  "nbformat": 4,
  "nbformat_minor": 0
}